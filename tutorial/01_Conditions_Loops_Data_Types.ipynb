{
  "cells": [
    {
      "cell_type": "markdown",
      "id": "29af93e6",
      "metadata": {
        "id": "29af93e6"
      },
      "source": [
        "# Booleans\n",
        "\n",
        "A boolean is a data type that can take only two values: True or False.\n",
        "\n",
        "Numerically, True is 1, and False is 0.\n",
        "\n",
        "Let's check the exercise below;"
      ]
    },
    {
      "cell_type": "code",
      "execution_count": null,
      "id": "48917a8a",
      "metadata": {
        "id": "48917a8a"
      },
      "outputs": [],
      "source": [
        "print(20 > 6)"
      ]
    },
    {
      "cell_type": "code",
      "execution_count": null,
      "id": "d724fcb6",
      "metadata": {
        "id": "d724fcb6"
      },
      "outputs": [],
      "source": [
        "print(20 != 6)"
      ]
    },
    {
      "cell_type": "code",
      "execution_count": null,
      "id": "7b0e1534",
      "metadata": {
        "id": "7b0e1534"
      },
      "outputs": [],
      "source": [
        "print(6 >= 6)"
      ]
    },
    {
      "cell_type": "code",
      "execution_count": null,
      "id": "afadaf53",
      "metadata": {
        "id": "afadaf53"
      },
      "outputs": [],
      "source": [
        "print(20 == 6)"
      ]
    },
    {
      "cell_type": "markdown",
      "id": "12656936",
      "metadata": {
        "id": "12656936"
      },
      "source": [
        "Values that are **0, None or Empty** are also considered False. Any other values are True.\n",
        "\n",
        "In the examples below, try to find if the print statement will be True or False. Then run the cell to see the result."
      ]
    },
    {
      "cell_type": "code",
      "execution_count": null,
      "id": "2dc629de",
      "metadata": {
        "id": "2dc629de"
      },
      "outputs": [],
      "source": [
        "# True or false?\n",
        "print(bool(\"Beautiful\"))"
      ]
    },
    {
      "cell_type": "code",
      "execution_count": null,
      "id": "3fae2501",
      "metadata": {
        "id": "3fae2501"
      },
      "outputs": [],
      "source": [
        "print(bool(61))"
      ]
    },
    {
      "cell_type": "code",
      "execution_count": null,
      "id": "a3cb843e",
      "metadata": {
        "id": "a3cb843e"
      },
      "outputs": [],
      "source": [
        "print(bool([\"melon\", \"kofte\", \"brownie\"]))"
      ]
    },
    {
      "cell_type": "code",
      "execution_count": null,
      "id": "8453ff84",
      "metadata": {
        "id": "8453ff84"
      },
      "outputs": [],
      "source": [
        "# True or false?\n",
        "\n",
        "print(bool([]))"
      ]
    },
    {
      "cell_type": "code",
      "execution_count": null,
      "id": "053ae277",
      "metadata": {
        "id": "053ae277"
      },
      "outputs": [],
      "source": [
        "print(bool(\"\"))"
      ]
    },
    {
      "cell_type": "code",
      "execution_count": null,
      "id": "b745921a",
      "metadata": {
        "id": "b745921a"
      },
      "outputs": [],
      "source": [
        "print(bool(False))"
      ]
    },
    {
      "cell_type": "code",
      "execution_count": null,
      "id": "5a61913e",
      "metadata": {
        "id": "5a61913e"
      },
      "outputs": [],
      "source": [
        "print(bool(None))"
      ]
    },
    {
      "cell_type": "code",
      "execution_count": null,
      "id": "f08ab6d0",
      "metadata": {
        "id": "f08ab6d0"
      },
      "outputs": [],
      "source": [
        "print(bool(0))"
      ]
    },
    {
      "cell_type": "markdown",
      "id": "e309cde6",
      "metadata": {
        "id": "e309cde6"
      },
      "source": [
        "There are special operators that can produce a result that is a boolean. Those operators are called **Comparison Operators** and are:\n",
        "\n",
        "| Operator | Name | Example |\n",
        "|:--------:|:----:|:-------:|\n",
        "| == | Equal | x == y |\n",
        "| != | Not equal | x != y |\n",
        "| > | Greater than | x > y |\n",
        "| < | Less than | x < y |\n",
        "| >= | Greater than or equal to | x >= y |\n",
        "| <= | Less than or equal to | x <= y |\n"
      ]
    },
    {
      "cell_type": "code",
      "execution_count": null,
      "id": "dcd64ebd",
      "metadata": {
        "id": "dcd64ebd"
      },
      "outputs": [],
      "source": [
        "# Is is True or False?\n",
        "\n",
        "print(5 > 8)"
      ]
    },
    {
      "cell_type": "code",
      "execution_count": null,
      "id": "c5897674",
      "metadata": {
        "id": "c5897674"
      },
      "outputs": [],
      "source": [
        "# Is is True or False?\n",
        "\n",
        "print(\"b\" == \"b\")"
      ]
    },
    {
      "cell_type": "code",
      "execution_count": null,
      "id": "35a61e83",
      "metadata": {
        "id": "35a61e83"
      },
      "outputs": [],
      "source": [
        "# Is is True or False?\n",
        "\n",
        "print(8 == 4) # equals"
      ]
    },
    {
      "cell_type": "code",
      "execution_count": null,
      "id": "4e6c3f74",
      "metadata": {
        "id": "4e6c3f74"
      },
      "outputs": [],
      "source": [
        "# Is is True or False?\n",
        "\n",
        "print(8 != 4) # not equals"
      ]
    },
    {
      "cell_type": "code",
      "execution_count": null,
      "id": "3c665daf",
      "metadata": {
        "id": "3c665daf"
      },
      "outputs": [],
      "source": [
        "# Guess the output\n",
        "\n",
        "name = \"Bella\"\n",
        "job = \"programmer\"\n",
        "\n",
        "print(name == job)"
      ]
    },
    {
      "cell_type": "markdown",
      "id": "b15b9647",
      "metadata": {
        "id": "b15b9647"
      },
      "source": [
        "#### Boolean operators\n",
        "\n",
        "\n",
        "Booleans can be combined using the following operators:\n",
        "\n",
        "* **and**: produces True if all booleans are True, else produces False\n",
        "* **or**: produces True if at least one of the booleans is True, else produces False\n",
        "* **not**: inverts the value of the given boolean, True -> False, False -> True"
      ]
    },
    {
      "cell_type": "code",
      "execution_count": null,
      "id": "bb4a0ad3",
      "metadata": {
        "id": "bb4a0ad3"
      },
      "outputs": [],
      "source": [
        "# Guess the output\n",
        "\n",
        "option_true = True\n",
        "option_false = False\n",
        "\n",
        "print(option_true and option_false)"
      ]
    },
    {
      "cell_type": "code",
      "execution_count": null,
      "id": "6c0baf69",
      "metadata": {
        "id": "6c0baf69"
      },
      "outputs": [],
      "source": [
        "print(option_true or option_false)"
      ]
    },
    {
      "cell_type": "code",
      "execution_count": null,
      "id": "8da2cec5",
      "metadata": {
        "id": "8da2cec5"
      },
      "outputs": [],
      "source": [
        "print(not option_false)"
      ]
    },
    {
      "cell_type": "code",
      "execution_count": null,
      "id": "92db2369",
      "metadata": {
        "id": "92db2369"
      },
      "outputs": [],
      "source": [
        "print(not option_true)"
      ]
    },
    {
      "cell_type": "markdown",
      "id": "3cc1a6b9",
      "metadata": {
        "id": "3cc1a6b9"
      },
      "source": [
        "# If statement\n",
        "\n",
        "A Python program can decide what to do next if a certain condition is True or False by using **if statements**."
      ]
    },
    {
      "cell_type": "code",
      "execution_count": null,
      "id": "9d2ea342",
      "metadata": {
        "id": "9d2ea342"
      },
      "outputs": [],
      "source": [
        "if (20 > 6):\n",
        "    print(\"This is the right choice\")\n",
        "else:\n",
        "    print(\"This can never be true\")\n",
        "print(\"---\")"
      ]
    },
    {
      "cell_type": "markdown",
      "id": "0339c215",
      "metadata": {
        "id": "0339c215"
      },
      "source": [
        "If the result of a boolean expression is True, the code within the if statement will be executed.\n",
        "\n",
        "The code that is considered **within** the IF statement is defined by the identation of the code. It looks like this:\n",
        "\n",
        "`if <BOOLEAN STATEMENT HERE>:\n",
        "<tab> COMMAND inside the if statement\n",
        "<tab> COMMAND inside the if statement\n",
        "COMMAND outside the if statement`\n"
      ]
    },
    {
      "cell_type": "markdown",
      "id": "96745585",
      "metadata": {
        "id": "96745585"
      },
      "source": [
        "Let's try another exercise"
      ]
    },
    {
      "cell_type": "code",
      "execution_count": null,
      "id": "15031f32",
      "metadata": {
        "id": "15031f32"
      },
      "outputs": [],
      "source": [
        "# Pay attention to the execution order\n",
        "\n",
        "my_favorite_colour = \"pink\"\n",
        "\n",
        "if (my_favorite_colour == \"red\"):\n",
        "    print(\"The colour i like is red!!!\")\n",
        "print(\"These line will always be executed.\")\n",
        "print(\"They are outside the if statement.\")\n",
        "print(\"---\")"
      ]
    },
    {
      "cell_type": "markdown",
      "id": "2ca80288",
      "metadata": {
        "id": "2ca80288"
      },
      "source": [
        "The **else** part is used to control the outcome if the boolean statement results to False."
      ]
    },
    {
      "cell_type": "code",
      "execution_count": null,
      "id": "683a93eb",
      "metadata": {
        "id": "683a93eb"
      },
      "outputs": [],
      "source": [
        "my_favorite_colour = \"pink\"\n",
        "\n",
        "if (my_favorite_colour == \"red\"):\n",
        "    print(\"The colour i like is red!!!\")\n",
        "else:\n",
        "    print(\"The colour i like is pink!!\")"
      ]
    },
    {
      "cell_type": "markdown",
      "id": "2d3439ca",
      "metadata": {
        "id": "2d3439ca"
      },
      "source": [
        "Now, let's see the if condition in a list"
      ]
    },
    {
      "cell_type": "code",
      "execution_count": null,
      "id": "8a3b29a0",
      "metadata": {
        "id": "8a3b29a0"
      },
      "outputs": [],
      "source": [
        "fruits = [\"strawberry\", \"grapes\", \"banana\"]\n",
        "\n",
        "if (\"raspberry\" in fruits):\n",
        "    print(\"Yes! These are the fruits! \" + str(fruits))\n",
        "else:\n",
        "    print(\"No! This is False!\")\n",
        "\n"
      ]
    },
    {
      "cell_type": "code",
      "execution_count": null,
      "id": "7c6f233a",
      "metadata": {
        "id": "7c6f233a"
      },
      "outputs": [],
      "source": [
        "fruits = [\"strawberry\", \"grapes\", \"banana\"]\n",
        "\n",
        "if(\"grapes\" in fruits):\n",
        "    print(\"Yes! These are the fruits! \" + str(fruits))\n",
        "else:\n",
        "    print(\"No! This is False!\")"
      ]
    },
    {
      "cell_type": "markdown",
      "id": "3e70564b",
      "metadata": {
        "id": "3e70564b"
      },
      "source": [
        "# Loops\n",
        "\n",
        "Using loops in Python we can automate and repeat tasks in an efficient manner.\n",
        "\n",
        "Using a `for` loop, we can iterate over each item present and executes the same set of operations.\n",
        "\n",
        "`while` loops will execute until a condition is true,\n",
        "\n",
        "Let’s understand this with an example.\n",
        "    \n",
        "- **An unknown number of times:**\n",
        "For example, Ask the user to guess the lucky number. You don’t know how many attempts the user will need to guess correctly. It can be 1, 20, or maybe indefinite. In such cases, use a `while` loop.\n",
        "\n",
        "\n",
        "- **Fixed number of times:**\n",
        "Print the multiplication table of 2. In this case, you know how many iterations you need. Here you need 10 iterations. In such a case use `for` loop.\n"
      ]
    },
    {
      "cell_type": "markdown",
      "id": "3131e5d6",
      "metadata": {
        "id": "3131e5d6"
      },
      "source": [
        "Let's see more examples with code below:"
      ]
    },
    {
      "cell_type": "markdown",
      "id": "13168534",
      "metadata": {
        "id": "13168534"
      },
      "source": [
        "## For loop"
      ]
    },
    {
      "cell_type": "code",
      "execution_count": null,
      "id": "59440b17",
      "metadata": {
        "id": "59440b17"
      },
      "outputs": [],
      "source": [
        "cars = [\"bmw\", \"cadillac\", \"jeep\"]\n",
        "\n",
        "for a in cars:\n",
        "    print(a)"
      ]
    },
    {
      "cell_type": "code",
      "execution_count": null,
      "id": "ef0eebf6",
      "metadata": {
        "id": "ef0eebf6"
      },
      "outputs": [],
      "source": [
        "# You can also loop through a string\n",
        "\n",
        "for x in \"cadillac\":\n",
        "    print(x)"
      ]
    },
    {
      "cell_type": "code",
      "execution_count": null,
      "id": "f4528658",
      "metadata": {
        "id": "f4528658"
      },
      "outputs": [],
      "source": [
        "# range(6) -> [0, 1, 2, 3, 4, 5]\n",
        "\n",
        "for this_item in range(6):\n",
        "    print(this_item)\n",
        "else:\n",
        "    print(\"This is the else :) \")"
      ]
    },
    {
      "cell_type": "code",
      "execution_count": null,
      "id": "5e638a27",
      "metadata": {
        "id": "5e638a27"
      },
      "outputs": [],
      "source": [
        "# range(6) -> [6, 7, 8]\n",
        "\n",
        "for this_item in range(6, 9):\n",
        "    print(this_item)\n",
        "else:\n",
        "    print(\"This is the else :) \")"
      ]
    },
    {
      "cell_type": "code",
      "execution_count": null,
      "id": "7299ae99",
      "metadata": {
        "id": "7299ae99"
      },
      "outputs": [],
      "source": [
        "# For loops together with if conditions\n",
        "\n",
        "cars = [\"bmw\", \"cadillac\", \"jeep\"]\n",
        "car_i_like = 'jeep'\n",
        "\n",
        "\n",
        "for car in cars:\n",
        "    if car == car_i_like:\n",
        "        print(car, \"! Yes please!\")\n",
        "    else:\n",
        "        print(car, \"? Sorry honey!\")\n",
        "    print(\"-\")\n"
      ]
    },
    {
      "cell_type": "markdown",
      "id": "c8fab0e8",
      "metadata": {
        "id": "c8fab0e8"
      },
      "source": [
        "#### Nested for loops\n",
        "\n",
        "\n",
        "Nested for loop is a `for` loop inside another `for` a loop.\n",
        "\n",
        "In nested loops, the inner loop is executed for each iteration of the outer loop.\n",
        "\n",
        "**Syntax of nested for loops:**\n",
        "\n",
        "```python\n",
        "# outer for loop\n",
        "for i in sequence1\n",
        "    # inner_for_loop\n",
        "    for j in sequence2:\n",
        "        body_of_inner_for_loop\n",
        "    body_of_outer_for_loop\n",
        "other_statements\n",
        "```"
      ]
    },
    {
      "cell_type": "code",
      "execution_count": null,
      "id": "c8b04be3",
      "metadata": {
        "id": "c8b04be3"
      },
      "outputs": [],
      "source": [
        "# For loop inside another for loop\n",
        "\n",
        "cars = [\"bmw\", \"cadillac\", \"jeep\"]\n",
        "car_i_like = 'jeep'\n",
        "tires = [\"winter tires\", \"summer tires\", \"flat tires\"]\n",
        "\n",
        "\n",
        "for car in cars:\n",
        "    for tire in tires:\n",
        "        if car == car_i_like:\n",
        "            print(\"My favorite car is a\", car, \"and it has\", tire)\n",
        "        else:\n",
        "            print(\"I don't like the\", car)"
      ]
    },
    {
      "cell_type": "code",
      "execution_count": null,
      "id": "524c11d4",
      "metadata": {
        "id": "524c11d4"
      },
      "outputs": [],
      "source": [
        "# Guess the output. Read carefully!\n",
        "\n",
        "my_dog_names = ['cookie', 'peanut', 'python']\n",
        "for dog in my_dog_names:\n",
        "    if dog == 'Peanut':\n",
        "        print('Yes!')\n",
        "    elif dog == \"cookie\":\n",
        "        print('Yes!')\n",
        "    else:\n",
        "        print('Too bad!')"
      ]
    },
    {
      "cell_type": "markdown",
      "id": "72fe266b",
      "metadata": {
        "id": "72fe266b"
      },
      "source": [
        "## While loop\n",
        "\n",
        "\n",
        "The while statement is used for repeated execution as long as an expression is true:\n",
        "\n",
        "```python\n",
        "while <BOOLEAN STATEMENT HERE>::\n",
        "    COMMAND_inside_the_while\n",
        "```"
      ]
    },
    {
      "cell_type": "code",
      "execution_count": null,
      "id": "676f1038",
      "metadata": {
        "id": "676f1038"
      },
      "outputs": [],
      "source": [
        "coffees_to_be_happy = 5\n",
        "coffees_until_now = 0\n",
        "\n",
        "while coffees_until_now < coffees_to_be_happy:\n",
        "    print('I need more coffee')\n",
        "    print('Drinking', coffees_until_now + 1, 'coffee')\n",
        "    coffees_until_now = coffees_until_now +1\n",
        "    print(\"-\")\n",
        "print(\"I am happy now.\")"
      ]
    },
    {
      "cell_type": "markdown",
      "id": "de0faaee",
      "metadata": {
        "id": "de0faaee"
      },
      "source": [
        "### Exercise:\n",
        "\n",
        "Using a for loop, print the following:\n",
        "\n",
        "`\n",
        "-10\n",
        "-9\n",
        "-8\n",
        "-7\n",
        "-6\n",
        "-5\n",
        "-4\n",
        "-3\n",
        "-2\n",
        "-1\n",
        "0\n",
        "`"
      ]
    },
    {
      "cell_type": "code",
      "execution_count": null,
      "id": "90800c62",
      "metadata": {
        "id": "90800c62"
      },
      "outputs": [],
      "source": [
        "starting_number =\n",
        "\n",
        "for i in range():\n",
        "    # ADD your code here"
      ]
    },
    {
      "cell_type": "markdown",
      "id": "1d1bbc7b",
      "metadata": {
        "id": "1d1bbc7b"
      },
      "source": [
        "## Bonus section: Loop Control Statements\n",
        "\n",
        "Loop control statements change the normal flow of execution. They are used when you want to exit a loop or skip a part of the loop based on the given condition.\n",
        "\n",
        "Now, let us learn about the three types of loop control statements --> `break`, `continue`.\n",
        "\n",
        "**Break**\n",
        "\n",
        "The `break` statement is used to terminate the loop. You can use the break statement whenever you want to stop the loop.\n",
        "\n",
        "When the `break` statement is encountered, Python stops the current loop, and the control flow is transferred to the following line of code immediately following the loop.\n",
        "\n",
        "**Example of break in a for loop**"
      ]
    },
    {
      "cell_type": "code",
      "execution_count": null,
      "id": "39d58f59",
      "metadata": {
        "id": "39d58f59"
      },
      "outputs": [],
      "source": [
        "# break example\n",
        "\n",
        "numbers = [1, 4, 7, 8, 15, 20, 35, 45, 55]\n",
        "for i in numbers:\n",
        "    if i > 15:\n",
        "        # break the loop\n",
        "        break\n",
        "    else:\n",
        "        print(i)"
      ]
    },
    {
      "cell_type": "markdown",
      "id": "4589787a",
      "metadata": {
        "id": "4589787a"
      },
      "source": [
        "With the break statement we can stop the loop even if the while condition is true:\n",
        "\n",
        "**Example of break in a while loop**"
      ]
    },
    {
      "cell_type": "code",
      "execution_count": null,
      "id": "6cd4b5eb",
      "metadata": {
        "id": "6cd4b5eb"
      },
      "outputs": [],
      "source": [
        "# Exit the loop when i is 3:\n",
        "\n",
        "i = 1\n",
        "while i < 6:\n",
        "    print(i)\n",
        "    if i == 3:\n",
        "        break\n",
        "    i += 1 # This is another way of writing i = i + 1"
      ]
    },
    {
      "cell_type": "markdown",
      "id": "b833cdb6",
      "metadata": {
        "id": "b833cdb6"
      },
      "source": [
        "**Continue Statement**\n",
        "\n",
        "The `continue` statement skips the current iteration of the loop only. It doesn’t terminate the loop but continues in the next iteration. Let us see the usage of the continue statement with an example.\n",
        "\n",
        "**Example of continue in a for loop**\n",
        "\n",
        "Count the total number of ‘o’ in a given string.\n",
        "\n",
        "- In this program, the `for` loop statement iterates over each letter of a given string.\n",
        "- Next, the if statement checks the current character is m or not. If it is not m, it continues to the next iteration to check the following letter. else it increments the count\n",
        "\n",
        "With the continue statement we can stop the current iteration, and continue with the next:"
      ]
    },
    {
      "cell_type": "code",
      "execution_count": null,
      "id": "c5d0b090",
      "metadata": {
        "id": "c5d0b090"
      },
      "outputs": [],
      "source": [
        "name = \"Do your thing!\"\n",
        "count = 0\n",
        "for char in name:\n",
        "    if char != 'o':\n",
        "        continue\n",
        "        # code here never gets executed\n",
        "    count = count + 1\n",
        "\n",
        "print('Total number of o is:', count)"
      ]
    },
    {
      "cell_type": "markdown",
      "id": "2678d75a",
      "metadata": {
        "id": "2678d75a"
      },
      "source": [
        "**Example of continue in a while loop**\n",
        "\n",
        "Continue to the next iteration if **i** is 3:\n"
      ]
    },
    {
      "cell_type": "code",
      "execution_count": null,
      "id": "9bd77db4",
      "metadata": {
        "id": "9bd77db4"
      },
      "outputs": [],
      "source": [
        "i = 0\n",
        "while i < 6:\n",
        "    i += 1 # This is another way of writing i = i + 1\n",
        "    if i == 3:\n",
        "        continue\n",
        "    print(i)"
      ]
    },
    {
      "cell_type": "markdown",
      "id": "c17bf01a",
      "metadata": {
        "id": "c17bf01a"
      },
      "source": [
        "# Dictionaries\n",
        "\n",
        "A python dictionary is a collection of items. It contains data as a set of **key**: **value** pairs."
      ]
    },
    {
      "cell_type": "code",
      "execution_count": null,
      "id": "9594dfe8",
      "metadata": {
        "id": "9594dfe8"
      },
      "outputs": [],
      "source": [
        "capitals = {\"germany\": \"berlin\",\n",
        "             \"italy\": \"rome\",\n",
        "             \"spain\": \"madrid\"}"
      ]
    },
    {
      "cell_type": "markdown",
      "id": "e9a2724c",
      "metadata": {
        "id": "e9a2724c"
      },
      "source": [
        "To access a value in a dictionary, simply use the **key** of the pair within **[ ]** after the name of the dictionary."
      ]
    },
    {
      "cell_type": "code",
      "execution_count": null,
      "id": "b8934175",
      "metadata": {
        "id": "b8934175"
      },
      "outputs": [],
      "source": [
        "capitals[\"germany\"]"
      ]
    },
    {
      "cell_type": "markdown",
      "id": "c387e177",
      "metadata": {
        "id": "c387e177"
      },
      "source": [
        "More examples:"
      ]
    },
    {
      "cell_type": "code",
      "execution_count": null,
      "id": "8c3fd1e0",
      "metadata": {
        "id": "8c3fd1e0"
      },
      "outputs": [],
      "source": [
        "# Find the city value in the dictionary\n",
        "\n",
        "myself = {\n",
        "  \"name\": \"Bella\",\n",
        "  \"city\": \"Amsterdam\",\n",
        "  \"year\": 2023\n",
        "}\n",
        "print(myself[\"city\"])"
      ]
    },
    {
      "cell_type": "code",
      "execution_count": null,
      "id": "277640cb",
      "metadata": {
        "id": "277640cb"
      },
      "outputs": [],
      "source": [
        "myself = {\n",
        "  \"name\": \"Bella\",\n",
        "  \"city\": \"Amsterdam\",\n",
        "  \"year\": 2023,\n",
        "  \"favorite_food\": [\"kofte\", \"shwarma\", \"steak\", \"fries\"]\n",
        "}\n",
        "print(myself[\"favorite_food\"])"
      ]
    },
    {
      "cell_type": "code",
      "execution_count": null,
      "id": "76632591",
      "metadata": {
        "id": "76632591"
      },
      "outputs": [],
      "source": [
        "# Length of the dictionary\n",
        "print(\"Dictionary:\", myself)\n",
        "print(\"-\")\n",
        "print(len(myself))\n"
      ]
    },
    {
      "cell_type": "markdown",
      "id": "eb24f983",
      "metadata": {
        "id": "eb24f983"
      },
      "source": [
        "### Exercise 1"
      ]
    },
    {
      "cell_type": "code",
      "execution_count": null,
      "id": "4f366b8c",
      "metadata": {
        "id": "4f366b8c"
      },
      "outputs": [],
      "source": [
        "# Create a dictionary with information about the weather of a city.\n",
        "# Include information such as: place, temperature, wind direction, wind speed etc\n",
        "# then using the dictionary print these information\n",
        "\n",
        "# For example; city is Istanbul, temperature 33 celcius, wind speed 6 km/h\n",
        "\n",
        "weather_info = {'city': ''}"
      ]
    },
    {
      "cell_type": "markdown",
      "id": "04346c82",
      "metadata": {
        "id": "04346c82"
      },
      "source": [
        "## Exercise 2\n",
        "\n",
        "Fix the information below.\n",
        "\n",
        "*Hint: The capital of switzerland is Bern*"
      ]
    },
    {
      "cell_type": "code",
      "execution_count": null,
      "id": "7e48555e",
      "metadata": {
        "id": "7e48555e"
      },
      "outputs": [],
      "source": [
        "capitals = {\"germany\": \"berlin\",\n",
        "             \"italy\": \"rome\",\n",
        "             \"spain\": \"madrid\",\n",
        "             \"switzerland\": \"geneva\"}"
      ]
    },
    {
      "cell_type": "markdown",
      "id": "97fe17b1-3cd5-48a1-a8fd-6ac974f3a291",
      "metadata": {
        "id": "97fe17b1-3cd5-48a1-a8fd-6ac974f3a291"
      },
      "source": [
        "# Bonus!\n",
        "\n",
        "Hey! you made it this far! first of all, good job!\n",
        "Are you bored? feeling adventurous? let's try another bonus :)\n",
        "\n",
        "Try to write Python code that prints a triangle with stars, such that its size is based on a given input n.\n",
        "For example: <br> <br>\n",
        "\n",
        "for n=3 <br>\n",
        "\\* <br>\n",
        "\\* * <br>\n",
        "\n",
        "for n = 1 <br>\n",
        "\\* <br>\n",
        "\n",
        "for n = 5 <br>\n",
        "\\* <br>\n",
        "\\* * <br>\n",
        "\\* * * <br>\n",
        "\\* * * * <br>\n",
        "\\* * * * * <br>\n",
        "\n",
        "etc..\n",
        "\n",
        "hint: as developers, when encountring a big problem we usually solve it by first dividing it into smaller problems.\n",
        "so maybe try to think of how you would print each line first, and then move to printing all the lines,\n",
        "for example, for the 3rd line, you need to print 3 stars right?\n",
        "for the 5th line you need to print 5 stars right?\n",
        "do you see where I'm getting at...? :)\n",
        "\n",
        "Good luck!\n"
      ]
    },
    {
      "cell_type": "markdown",
      "id": "486aa1d1",
      "metadata": {
        "id": "486aa1d1"
      },
      "source": [
        "#### Congratulations! You learned about Booleans, If statements, For loops, While loops, Loop control statements and Dictionaries! These are the most common statements that are used in Python programming :)"
      ]
    },
    {
      "cell_type": "code",
      "execution_count": null,
      "id": "08dc936f",
      "metadata": {
        "id": "08dc936f"
      },
      "outputs": [],
      "source": []
    },
    {
      "cell_type": "markdown",
      "source": [
        "# Another Bonus!\n",
        "\n",
        "Hey, did you breeze through the exercises? Are you game for some more challenge? Here's another bonus exercise to reinforce the concepts you have learned so far in a fun and practical way.\n",
        "\n",
        "\n",
        "🧠 Bonus Exercise: A Simple Number Guessing Game\n",
        "Imagine the computer is thinking of a secret number between **1 and 10**. Your job is to guess what number it picked!\n",
        "\n",
        "\n",
        "🎯 Objective: Try to write the Python code where the user tries to guess a number ` between 1 and 10. The program gives feedback after each guess and loops until the correct number is guessed.\n",
        "\n",
        "\n",
        "Hints:\n",
        "\n",
        "- Let the computer pick a secret number (you can also choose to import a python package for this called random.randint)\n",
        "- You keep guessing until you get it right\n",
        "- Ask the player to guess\n",
        "- Check if the guess is a number\n",
        "- Turn your guess into a number\n",
        "- You can Give hints (for example, when guessed number is Too High or Too low, or when it's correct, it says: You Win!)\n",
        "\n",
        "\n"
      ],
      "metadata": {
        "id": "Kq5RXFFA__dI"
      },
      "id": "Kq5RXFFA__dI"
    },
    {
      "cell_type": "code",
      "source": [],
      "metadata": {
        "id": "GLJRS6k5IfbR"
      },
      "id": "GLJRS6k5IfbR",
      "execution_count": null,
      "outputs": []
    }
  ],
  "metadata": {
    "kernelspec": {
      "display_name": "Python 3 (ipykernel)",
      "language": "python",
      "name": "python3"
    },
    "language_info": {
      "codemirror_mode": {
        "name": "ipython",
        "version": 3
      },
      "file_extension": ".py",
      "mimetype": "text/x-python",
      "name": "python",
      "nbconvert_exporter": "python",
      "pygments_lexer": "ipython3",
      "version": "3.11.5"
    },
    "colab": {
      "provenance": []
    }
  },
  "nbformat": 4,
  "nbformat_minor": 5
}